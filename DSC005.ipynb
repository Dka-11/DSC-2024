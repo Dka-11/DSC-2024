{
 "cells": [
  {
   "cell_type": "markdown",
   "id": "e0fbb652",
   "metadata": {
    "papermill": {
     "duration": 0.008051,
     "end_time": "2024-07-26T14:47:23.742397",
     "exception": false,
     "start_time": "2024-07-26T14:47:23.734346",
     "status": "completed"
    },
    "tags": []
   },
   "source": [
    "# Project DSC 2024 - DSC005"
   ]
  },
  {
   "cell_type": "markdown",
   "id": "a4dffa11",
   "metadata": {
    "papermill": {
     "duration": 0.006856,
     "end_time": "2024-07-26T14:47:23.756955",
     "exception": false,
     "start_time": "2024-07-26T14:47:23.750099",
     "status": "completed"
    },
    "tags": []
   },
   "source": [
    "## 1. Tujuan dan Batasan Masalah\n",
    "\n",
    "Tujuan : Memprediksi kualitasi pada setiap apel di dalam file `test.csv` Dengan setiap `A_id` pada `test.csv` dapat diprediksi kualitas apel pada variabel `Quality`\n",
    "\n",
    "Batasan masalah : Hasil Prediksi dievaluasi menggunakan `accuracy score`\n",
    "\n",
    "Kriteria keberhasilan : Dapat memprediksi setiap Apel pada variabel `Quality` yang terletak pada file `test.csv`"
   ]
  },
  {
   "cell_type": "markdown",
   "id": "4b814ddb",
   "metadata": {
    "papermill": {
     "duration": 0.00665,
     "end_time": "2024-07-26T14:47:23.770865",
     "exception": false,
     "start_time": "2024-07-26T14:47:23.764215",
     "status": "completed"
    },
    "tags": []
   },
   "source": [
    "## 2. Pengetahuan Data\n",
    "\n",
    "Berikut adalah path untuk masing-masing data (dalam Kaggle):\n",
    "1. `sample submission` : /kaggle/input/dsc-2024-temporary/sample_submission.csv\n",
    "2. `train set`         : /kaggle/input/dsc-2024-temporary/train.csv\n",
    "3. `test set`          : /kaggle/input/dsc-2024-temporary/test.csv"
   ]
  },
  {
   "cell_type": "code",
   "execution_count": 1,
   "id": "9681d545",
   "metadata": {
    "execution": {
     "iopub.execute_input": "2024-07-26T14:47:23.787333Z",
     "iopub.status.busy": "2024-07-26T14:47:23.786822Z",
     "iopub.status.idle": "2024-07-26T14:47:26.249669Z",
     "shell.execute_reply": "2024-07-26T14:47:26.248351Z"
    },
    "papermill": {
     "duration": 2.475087,
     "end_time": "2024-07-26T14:47:26.253110",
     "exception": false,
     "start_time": "2024-07-26T14:47:23.778023",
     "status": "completed"
    },
    "tags": []
   },
   "outputs": [],
   "source": [
    "# Import Library\n",
    "\n",
    "import pandas as pd\n",
    "import matplotlib.pyplot as plt\n",
    "import seaborn as sns\n",
    "from sklearn.model_selection import train_test_split, GridSearchCV\n",
    "from sklearn.preprocessing import LabelEncoder\n",
    "from sklearn.ensemble import RandomForestClassifier\n",
    "from sklearn.metrics import accuracy_score, confusion_matrix, classification_report"
   ]
  },
  {
   "cell_type": "code",
   "execution_count": 2,
   "id": "5e635092",
   "metadata": {
    "execution": {
     "iopub.execute_input": "2024-07-26T14:47:26.270463Z",
     "iopub.status.busy": "2024-07-26T14:47:26.269126Z",
     "iopub.status.idle": "2024-07-26T14:47:26.328637Z",
     "shell.execute_reply": "2024-07-26T14:47:26.327359Z"
    },
    "papermill": {
     "duration": 0.071075,
     "end_time": "2024-07-26T14:47:26.331462",
     "exception": false,
     "start_time": "2024-07-26T14:47:26.260387",
     "status": "completed"
    },
    "tags": []
   },
   "outputs": [
    {
     "data": {
      "text/html": [
       "<div>\n",
       "<style scoped>\n",
       "    .dataframe tbody tr th:only-of-type {\n",
       "        vertical-align: middle;\n",
       "    }\n",
       "\n",
       "    .dataframe tbody tr th {\n",
       "        vertical-align: top;\n",
       "    }\n",
       "\n",
       "    .dataframe thead th {\n",
       "        text-align: right;\n",
       "    }\n",
       "</style>\n",
       "<table border=\"1\" class=\"dataframe\">\n",
       "  <thead>\n",
       "    <tr style=\"text-align: right;\">\n",
       "      <th></th>\n",
       "      <th>A_id</th>\n",
       "      <th>Size</th>\n",
       "      <th>Weight</th>\n",
       "      <th>Sweetness</th>\n",
       "      <th>Crunchiness</th>\n",
       "      <th>Juiciness</th>\n",
       "      <th>Ripeness</th>\n",
       "      <th>Acidity</th>\n",
       "      <th>Quality</th>\n",
       "    </tr>\n",
       "  </thead>\n",
       "  <tbody>\n",
       "    <tr>\n",
       "      <th>0</th>\n",
       "      <td>0</td>\n",
       "      <td>-0.155024</td>\n",
       "      <td>-1.901167</td>\n",
       "      <td>2.615144</td>\n",
       "      <td>1.091245</td>\n",
       "      <td>1.642629</td>\n",
       "      <td>0.378677</td>\n",
       "      <td>-1.705312</td>\n",
       "      <td>good</td>\n",
       "    </tr>\n",
       "    <tr>\n",
       "      <th>1</th>\n",
       "      <td>1</td>\n",
       "      <td>-2.730624</td>\n",
       "      <td>-1.808060</td>\n",
       "      <td>-4.085386</td>\n",
       "      <td>0.172564</td>\n",
       "      <td>-1.579260</td>\n",
       "      <td>3.380989</td>\n",
       "      <td>-3.847081</td>\n",
       "      <td>bad</td>\n",
       "    </tr>\n",
       "    <tr>\n",
       "      <th>2</th>\n",
       "      <td>2</td>\n",
       "      <td>-0.599057</td>\n",
       "      <td>2.046434</td>\n",
       "      <td>-2.877662</td>\n",
       "      <td>0.505389</td>\n",
       "      <td>0.228996</td>\n",
       "      <td>1.890559</td>\n",
       "      <td>2.211756</td>\n",
       "      <td>bad</td>\n",
       "    </tr>\n",
       "    <tr>\n",
       "      <th>3</th>\n",
       "      <td>3</td>\n",
       "      <td>-2.010945</td>\n",
       "      <td>-1.426566</td>\n",
       "      <td>-2.334610</td>\n",
       "      <td>1.302376</td>\n",
       "      <td>0.142687</td>\n",
       "      <td>3.922959</td>\n",
       "      <td>0.017695</td>\n",
       "      <td>bad</td>\n",
       "    </tr>\n",
       "    <tr>\n",
       "      <th>4</th>\n",
       "      <td>4</td>\n",
       "      <td>-1.977980</td>\n",
       "      <td>-0.229483</td>\n",
       "      <td>1.283458</td>\n",
       "      <td>0.238898</td>\n",
       "      <td>1.049935</td>\n",
       "      <td>0.682324</td>\n",
       "      <td>0.369580</td>\n",
       "      <td>good</td>\n",
       "    </tr>\n",
       "  </tbody>\n",
       "</table>\n",
       "</div>"
      ],
      "text/plain": [
       "   A_id      Size    Weight  Sweetness  Crunchiness  Juiciness  Ripeness   \n",
       "0     0 -0.155024 -1.901167   2.615144     1.091245   1.642629  0.378677  \\\n",
       "1     1 -2.730624 -1.808060  -4.085386     0.172564  -1.579260  3.380989   \n",
       "2     2 -0.599057  2.046434  -2.877662     0.505389   0.228996  1.890559   \n",
       "3     3 -2.010945 -1.426566  -2.334610     1.302376   0.142687  3.922959   \n",
       "4     4 -1.977980 -0.229483   1.283458     0.238898   1.049935  0.682324   \n",
       "\n",
       "    Acidity Quality  \n",
       "0 -1.705312    good  \n",
       "1 -3.847081     bad  \n",
       "2  2.211756     bad  \n",
       "3  0.017695     bad  \n",
       "4  0.369580    good  "
      ]
     },
     "execution_count": 2,
     "metadata": {},
     "output_type": "execute_result"
    }
   ],
   "source": [
    "df = pd.read_csv(\"dsc-2024-temporary/train.csv\")\n",
    "df.head()"
   ]
  },
  {
   "cell_type": "code",
   "execution_count": 3,
   "id": "3a77498f",
   "metadata": {
    "execution": {
     "iopub.execute_input": "2024-07-26T14:47:26.348352Z",
     "iopub.status.busy": "2024-07-26T14:47:26.347920Z",
     "iopub.status.idle": "2024-07-26T14:47:26.353461Z",
     "shell.execute_reply": "2024-07-26T14:47:26.352057Z"
    },
    "papermill": {
     "duration": 0.01691,
     "end_time": "2024-07-26T14:47:26.356008",
     "exception": false,
     "start_time": "2024-07-26T14:47:26.339098",
     "status": "completed"
    },
    "tags": []
   },
   "outputs": [
    {
     "name": "stdout",
     "output_type": "stream",
     "text": [
      "<class 'pandas.core.frame.DataFrame'>\n",
      "RangeIndex: 2800 entries, 0 to 2799\n",
      "Data columns (total 9 columns):\n",
      " #   Column       Non-Null Count  Dtype  \n",
      "---  ------       --------------  -----  \n",
      " 0   A_id         2800 non-null   int64  \n",
      " 1   Size         2800 non-null   float64\n",
      " 2   Weight       2800 non-null   float64\n",
      " 3   Sweetness    2800 non-null   float64\n",
      " 4   Crunchiness  2800 non-null   float64\n",
      " 5   Juiciness    2800 non-null   float64\n",
      " 6   Ripeness     2800 non-null   float64\n",
      " 7   Acidity      2800 non-null   float64\n",
      " 8   Quality      2800 non-null   object \n",
      "dtypes: float64(7), int64(1), object(1)\n",
      "memory usage: 197.0+ KB\n"
     ]
    }
   ],
   "source": [
    "# Summary of the dataset\n",
    "df.info()"
   ]
  },
  {
   "cell_type": "markdown",
   "id": "bb75ff31",
   "metadata": {
    "papermill": {
     "duration": 0.007131,
     "end_time": "2024-07-26T14:47:26.370614",
     "exception": false,
     "start_time": "2024-07-26T14:47:26.363483",
     "status": "completed"
    },
    "tags": []
   },
   "source": [
    "Dataset terdiri dari beberapa kolom dengan tipe data yang berbeda. Berikut adalah penjelasan mengenai masing-masing kolom:\n",
    "\n",
    "- **A_id**: Merupakan identifier unik untuk setiap observasi.\n",
    "- **Size**: Variabel numerik yang menunjukkan ukuran item.\n",
    "- **Weight**: Variabel numerik yang menunjukkan berat item.\n",
    "- **Sweetness**: Variabel numerik yang menunjukkan tingkat kemanisan item.\n",
    "- **Crunchiness**: Variabel numerik yang menunjukkan tingkat kerenyahan item.\n",
    "- **Juiciness**: Variabel numerik yang menunjukkan tingkat kejuiciness-an item.\n",
    "- **Ripeness**: Variabel numerik yang menunjukkan tingkat kematangan item.\n",
    "- **Acidity**: Variabel numerik yang menunjukkan tingkat keasaman item.\n",
    "- **Quality**: Variabel kategorikal yang menunjukkan kualitas item, dengan nilai 'good' dan 'bad'."
   ]
  },
  {
   "cell_type": "markdown",
   "id": "34d4140f",
   "metadata": {},
   "source": [
    "- Dataset Terdiri dari 2800 Baris"
   ]
  },
  {
   "cell_type": "markdown",
   "id": "7e742e0c",
   "metadata": {
    "papermill": {
     "duration": 0.00689,
     "end_time": "2024-07-26T14:47:26.384750",
     "exception": false,
     "start_time": "2024-07-26T14:47:26.377860",
     "status": "completed"
    },
    "tags": []
   },
   "source": [
    "## 3. Data Preprocessing"
   ]
  },
  {
   "cell_type": "markdown",
   "id": "d60b5592",
   "metadata": {},
   "source": [
    "### Check Null Data"
   ]
  },
  {
   "cell_type": "code",
   "execution_count": 4,
   "id": "020ee56d",
   "metadata": {
    "execution": {
     "iopub.execute_input": "2024-07-26T14:47:26.401847Z",
     "iopub.status.busy": "2024-07-26T14:47:26.401378Z",
     "iopub.status.idle": "2024-07-26T14:47:26.407028Z",
     "shell.execute_reply": "2024-07-26T14:47:26.405725Z"
    },
    "papermill": {
     "duration": 0.017479,
     "end_time": "2024-07-26T14:47:26.409954",
     "exception": false,
     "start_time": "2024-07-26T14:47:26.392475",
     "status": "completed"
    },
    "tags": []
   },
   "outputs": [
    {
     "data": {
      "text/plain": [
       "A_id           0\n",
       "Size           0\n",
       "Weight         0\n",
       "Sweetness      0\n",
       "Crunchiness    0\n",
       "Juiciness      0\n",
       "Ripeness       0\n",
       "Acidity        0\n",
       "Quality        0\n",
       "dtype: int64"
      ]
     },
     "execution_count": 4,
     "metadata": {},
     "output_type": "execute_result"
    }
   ],
   "source": [
    "df.isna().sum()"
   ]
  },
  {
   "cell_type": "markdown",
   "id": "4217410c",
   "metadata": {},
   "source": [
    "- Dataset tidak memiliki nilai `null` sehingga dapat dilanjutkan ke tahap selanjutnya"
   ]
  },
  {
   "cell_type": "markdown",
   "id": "11a6cc0e",
   "metadata": {},
   "source": [
    "### Menghapus Outlier pada Dataset"
   ]
  },
  {
   "cell_type": "code",
   "execution_count": 5,
   "id": "c737f6c7",
   "metadata": {},
   "outputs": [
    {
     "name": "stdout",
     "output_type": "stream",
     "text": [
      "Outliers detected : \n",
      " A_id            0\n",
      "Size           12\n",
      "Weight         39\n",
      "Sweetness      22\n",
      "Crunchiness    36\n",
      "Juiciness      24\n",
      "Ripeness       16\n",
      "Acidity        10\n",
      "dtype: int64\n"
     ]
    },
    {
     "data": {
      "text/html": [
       "<div>\n",
       "<style scoped>\n",
       "    .dataframe tbody tr th:only-of-type {\n",
       "        vertical-align: middle;\n",
       "    }\n",
       "\n",
       "    .dataframe tbody tr th {\n",
       "        vertical-align: top;\n",
       "    }\n",
       "\n",
       "    .dataframe thead th {\n",
       "        text-align: right;\n",
       "    }\n",
       "</style>\n",
       "<table border=\"1\" class=\"dataframe\">\n",
       "  <thead>\n",
       "    <tr style=\"text-align: right;\">\n",
       "      <th></th>\n",
       "      <th>A_id</th>\n",
       "      <th>Size</th>\n",
       "      <th>Weight</th>\n",
       "      <th>Sweetness</th>\n",
       "      <th>Crunchiness</th>\n",
       "      <th>Juiciness</th>\n",
       "      <th>Ripeness</th>\n",
       "      <th>Acidity</th>\n",
       "      <th>Quality</th>\n",
       "    </tr>\n",
       "  </thead>\n",
       "  <tbody>\n",
       "    <tr>\n",
       "      <th>7</th>\n",
       "      <td>7</td>\n",
       "      <td>-1.231758</td>\n",
       "      <td>1.363141</td>\n",
       "      <td>-5.746674</td>\n",
       "      <td>2.787437</td>\n",
       "      <td>-0.703580</td>\n",
       "      <td>1.627143</td>\n",
       "      <td>0.105004</td>\n",
       "      <td>bad</td>\n",
       "    </tr>\n",
       "    <tr>\n",
       "      <th>24</th>\n",
       "      <td>24</td>\n",
       "      <td>-0.874153</td>\n",
       "      <td>-2.635010</td>\n",
       "      <td>-0.840066</td>\n",
       "      <td>2.754218</td>\n",
       "      <td>-4.901069</td>\n",
       "      <td>-0.155717</td>\n",
       "      <td>-1.290563</td>\n",
       "      <td>bad</td>\n",
       "    </tr>\n",
       "    <tr>\n",
       "      <th>37</th>\n",
       "      <td>37</td>\n",
       "      <td>1.381278</td>\n",
       "      <td>4.363066</td>\n",
       "      <td>-2.569945</td>\n",
       "      <td>2.139035</td>\n",
       "      <td>-2.640239</td>\n",
       "      <td>-0.034340</td>\n",
       "      <td>0.242879</td>\n",
       "      <td>good</td>\n",
       "    </tr>\n",
       "    <tr>\n",
       "      <th>45</th>\n",
       "      <td>45</td>\n",
       "      <td>1.176184</td>\n",
       "      <td>0.384985</td>\n",
       "      <td>-0.054683</td>\n",
       "      <td>0.117879</td>\n",
       "      <td>0.565896</td>\n",
       "      <td>-4.605002</td>\n",
       "      <td>3.991795</td>\n",
       "      <td>bad</td>\n",
       "    </tr>\n",
       "    <tr>\n",
       "      <th>70</th>\n",
       "      <td>70</td>\n",
       "      <td>1.816525</td>\n",
       "      <td>-1.237189</td>\n",
       "      <td>-0.796434</td>\n",
       "      <td>1.847593</td>\n",
       "      <td>-4.904896</td>\n",
       "      <td>-0.573423</td>\n",
       "      <td>1.024243</td>\n",
       "      <td>bad</td>\n",
       "    </tr>\n",
       "    <tr>\n",
       "      <th>...</th>\n",
       "      <td>...</td>\n",
       "      <td>...</td>\n",
       "      <td>...</td>\n",
       "      <td>...</td>\n",
       "      <td>...</td>\n",
       "      <td>...</td>\n",
       "      <td>...</td>\n",
       "      <td>...</td>\n",
       "      <td>...</td>\n",
       "    </tr>\n",
       "    <tr>\n",
       "      <th>2764</th>\n",
       "      <td>2764</td>\n",
       "      <td>-0.805784</td>\n",
       "      <td>-1.743927</td>\n",
       "      <td>0.454462</td>\n",
       "      <td>-2.837197</td>\n",
       "      <td>2.275894</td>\n",
       "      <td>-0.857041</td>\n",
       "      <td>1.397096</td>\n",
       "      <td>good</td>\n",
       "    </tr>\n",
       "    <tr>\n",
       "      <th>2786</th>\n",
       "      <td>2786</td>\n",
       "      <td>2.047237</td>\n",
       "      <td>-5.908736</td>\n",
       "      <td>-0.951043</td>\n",
       "      <td>0.706630</td>\n",
       "      <td>1.237539</td>\n",
       "      <td>-0.202616</td>\n",
       "      <td>-1.353458</td>\n",
       "      <td>good</td>\n",
       "    </tr>\n",
       "    <tr>\n",
       "      <th>2787</th>\n",
       "      <td>2787</td>\n",
       "      <td>2.200068</td>\n",
       "      <td>-0.409746</td>\n",
       "      <td>2.419941</td>\n",
       "      <td>-0.189508</td>\n",
       "      <td>2.907596</td>\n",
       "      <td>-1.872339</td>\n",
       "      <td>7.193374</td>\n",
       "      <td>good</td>\n",
       "    </tr>\n",
       "    <tr>\n",
       "      <th>2791</th>\n",
       "      <td>2791</td>\n",
       "      <td>-2.757156</td>\n",
       "      <td>0.781497</td>\n",
       "      <td>3.330263</td>\n",
       "      <td>0.231806</td>\n",
       "      <td>3.293238</td>\n",
       "      <td>-4.661244</td>\n",
       "      <td>7.404736</td>\n",
       "      <td>bad</td>\n",
       "    </tr>\n",
       "    <tr>\n",
       "      <th>2796</th>\n",
       "      <td>2796</td>\n",
       "      <td>-4.795199</td>\n",
       "      <td>-4.052085</td>\n",
       "      <td>0.969536</td>\n",
       "      <td>3.125764</td>\n",
       "      <td>-0.240487</td>\n",
       "      <td>3.470479</td>\n",
       "      <td>6.138965</td>\n",
       "      <td>bad</td>\n",
       "    </tr>\n",
       "  </tbody>\n",
       "</table>\n",
       "<p>147 rows × 9 columns</p>\n",
       "</div>"
      ],
      "text/plain": [
       "      A_id      Size    Weight  Sweetness  Crunchiness  Juiciness  Ripeness   \n",
       "7        7 -1.231758  1.363141  -5.746674     2.787437  -0.703580  1.627143  \\\n",
       "24      24 -0.874153 -2.635010  -0.840066     2.754218  -4.901069 -0.155717   \n",
       "37      37  1.381278  4.363066  -2.569945     2.139035  -2.640239 -0.034340   \n",
       "45      45  1.176184  0.384985  -0.054683     0.117879   0.565896 -4.605002   \n",
       "70      70  1.816525 -1.237189  -0.796434     1.847593  -4.904896 -0.573423   \n",
       "...    ...       ...       ...        ...          ...        ...       ...   \n",
       "2764  2764 -0.805784 -1.743927   0.454462    -2.837197   2.275894 -0.857041   \n",
       "2786  2786  2.047237 -5.908736  -0.951043     0.706630   1.237539 -0.202616   \n",
       "2787  2787  2.200068 -0.409746   2.419941    -0.189508   2.907596 -1.872339   \n",
       "2791  2791 -2.757156  0.781497   3.330263     0.231806   3.293238 -4.661244   \n",
       "2796  2796 -4.795199 -4.052085   0.969536     3.125764  -0.240487  3.470479   \n",
       "\n",
       "       Acidity Quality  \n",
       "7     0.105004     bad  \n",
       "24   -1.290563     bad  \n",
       "37    0.242879    good  \n",
       "45    3.991795     bad  \n",
       "70    1.024243     bad  \n",
       "...        ...     ...  \n",
       "2764  1.397096    good  \n",
       "2786 -1.353458    good  \n",
       "2787  7.193374    good  \n",
       "2791  7.404736     bad  \n",
       "2796  6.138965     bad  \n",
       "\n",
       "[147 rows x 9 columns]"
      ]
     },
     "execution_count": 5,
     "metadata": {},
     "output_type": "execute_result"
    }
   ],
   "source": [
    "# Select Type Data yang berbentuk angka\n",
    "numeric_data = df.select_dtypes(include=['number'])\n",
    "\n",
    "Q1 = numeric_data.quantile(0.25)\n",
    "Q3 = numeric_data.quantile(0.75)\n",
    "\n",
    "IQR = Q3 - Q1\n",
    "\n",
    "# Identify outliers\n",
    "IQR_outliers = (numeric_data < (Q1 - 1.5 * IQR)) | (numeric_data > (Q3 + 1.5 * IQR))\n",
    "\n",
    "# Check Outlier dalam bentuk Column\n",
    "print(\"Outliers detected : \\n\", IQR_outliers.sum())\n",
    "\n",
    "# Check outlier dalam bentuk Rows (Baris)\n",
    "df[IQR_outliers.any(axis=1)]\n",
    "\n",
    "# Hasil Outlier dari kedua kode diatas berbeda karena menggunakan metode yang berbeda."
   ]
  },
  {
   "cell_type": "code",
   "execution_count": 6,
   "id": "1029e6ed",
   "metadata": {},
   "outputs": [
    {
     "data": {
      "text/plain": [
       "(2653, 9)"
      ]
     },
     "execution_count": 6,
     "metadata": {},
     "output_type": "execute_result"
    }
   ],
   "source": [
    "df_no_outliers = df[~IQR_outliers.any(axis=1)]\n",
    "\n",
    "df_no_outliers.shape\n"
   ]
  },
  {
   "cell_type": "markdown",
   "id": "d913c959",
   "metadata": {},
   "source": [
    "- Data berjumlah 2653 setelah menghapus outlier yang berada di dataset"
   ]
  },
  {
   "cell_type": "markdown",
   "id": "1c820237",
   "metadata": {},
   "source": [
    "### Check Duplicated Data"
   ]
  },
  {
   "cell_type": "code",
   "execution_count": 7,
   "id": "d8001bfe",
   "metadata": {},
   "outputs": [
    {
     "name": "stdout",
     "output_type": "stream",
     "text": [
      "Baris yang duplikat: 0\n"
     ]
    }
   ],
   "source": [
    "duplicate_rows = df_no_outliers.duplicated().sum()\n",
    "print(\"Baris yang duplikat:\", duplicate_rows)"
   ]
  },
  {
   "cell_type": "markdown",
   "id": "8339d954",
   "metadata": {},
   "source": [
    "### Check Jumlah data antara `good` and `bad`"
   ]
  },
  {
   "cell_type": "code",
   "execution_count": 8,
   "id": "76f2f658",
   "metadata": {},
   "outputs": [
    {
     "name": "stdout",
     "output_type": "stream",
     "text": [
      "Class Distribution:\n",
      "Quality\n",
      "bad     1350\n",
      "good    1303\n",
      "Name: count, dtype: int64\n"
     ]
    },
    {
     "data": {
      "image/png": "[encoded data removed]",
      "text/plain": [
       "<Figure size 640x480 with 1 Axes>"
      ]
     },
     "metadata": {},
     "output_type": "display_data"
    }
   ],
   "source": [
    "target_column = 'Quality'  # Replace with your target column name\n",
    "class_distribution = df_no_outliers[target_column].value_counts()\n",
    "\n",
    "print(\"Class Distribution:\")\n",
    "print(class_distribution)\n",
    "\n",
    "# Step 3: Plot the class distribution\n",
    "class_distribution.plot(kind='bar')\n",
    "plt.xlabel('Class')\n",
    "plt.ylabel('Frequency')\n",
    "plt.title('Class Distribution in Target Column')\n",
    "plt.show()"
   ]
  },
  {
   "cell_type": "markdown",
   "id": "cddffcd6",
   "metadata": {
    "papermill": {
     "duration": 0.007331,
     "end_time": "2024-07-26T14:47:26.450727",
     "exception": false,
     "start_time": "2024-07-26T14:47:26.443396",
     "status": "completed"
    },
    "tags": []
   },
   "source": [
    "## 4. Exploratory Data Analysis (EDA)"
   ]
  },
  {
   "cell_type": "code",
   "execution_count": 9,
   "id": "1d215b2d",
   "metadata": {
    "execution": {
     "iopub.execute_input": "2024-07-26T14:47:26.468213Z",
     "iopub.status.busy": "2024-07-26T14:47:26.467732Z",
     "iopub.status.idle": "2024-07-26T14:47:26.473525Z",
     "shell.execute_reply": "2024-07-26T14:47:26.471956Z"
    },
    "papermill": {
     "duration": 0.017723,
     "end_time": "2024-07-26T14:47:26.476243",
     "exception": false,
     "start_time": "2024-07-26T14:47:26.458520",
     "status": "completed"
    },
    "tags": []
   },
   "outputs": [
    {
     "data": {
      "text/html": [
       "<div>\n",
       "<style scoped>\n",
       "    .dataframe tbody tr th:only-of-type {\n",
       "        vertical-align: middle;\n",
       "    }\n",
       "\n",
       "    .dataframe tbody tr th {\n",
       "        vertical-align: top;\n",
       "    }\n",
       "\n",
       "    .dataframe thead th {\n",
       "        text-align: right;\n",
       "    }\n",
       "</style>\n",
       "<table border=\"1\" class=\"dataframe\">\n",
       "  <thead>\n",
       "    <tr style=\"text-align: right;\">\n",
       "      <th></th>\n",
       "      <th>A_id</th>\n",
       "      <th>Size</th>\n",
       "      <th>Weight</th>\n",
       "      <th>Sweetness</th>\n",
       "      <th>Crunchiness</th>\n",
       "      <th>Juiciness</th>\n",
       "      <th>Ripeness</th>\n",
       "      <th>Acidity</th>\n",
       "    </tr>\n",
       "  </thead>\n",
       "  <tbody>\n",
       "    <tr>\n",
       "      <th>count</th>\n",
       "      <td>2653.000000</td>\n",
       "      <td>2653.000000</td>\n",
       "      <td>2653.000000</td>\n",
       "      <td>2653.000000</td>\n",
       "      <td>2653.000000</td>\n",
       "      <td>2653.000000</td>\n",
       "      <td>2653.000000</td>\n",
       "      <td>2653.000000</td>\n",
       "    </tr>\n",
       "    <tr>\n",
       "      <th>mean</th>\n",
       "      <td>1400.714663</td>\n",
       "      <td>-0.510518</td>\n",
       "      <td>-0.999159</td>\n",
       "      <td>-0.451059</td>\n",
       "      <td>0.996603</td>\n",
       "      <td>0.497556</td>\n",
       "      <td>0.528129</td>\n",
       "      <td>0.092417</td>\n",
       "    </tr>\n",
       "    <tr>\n",
       "      <th>std</th>\n",
       "      <td>808.195401</td>\n",
       "      <td>1.868902</td>\n",
       "      <td>1.501259</td>\n",
       "      <td>1.895799</td>\n",
       "      <td>1.290363</td>\n",
       "      <td>1.850413</td>\n",
       "      <td>1.790270</td>\n",
       "      <td>2.048880</td>\n",
       "    </tr>\n",
       "    <tr>\n",
       "      <th>min</th>\n",
       "      <td>0.000000</td>\n",
       "      <td>-5.648196</td>\n",
       "      <td>-5.058679</td>\n",
       "      <td>-5.571881</td>\n",
       "      <td>-2.620954</td>\n",
       "      <td>-4.563025</td>\n",
       "      <td>-4.471210</td>\n",
       "      <td>-5.537819</td>\n",
       "    </tr>\n",
       "    <tr>\n",
       "      <th>25%</th>\n",
       "      <td>701.000000</td>\n",
       "      <td>-1.812728</td>\n",
       "      <td>-1.990630</td>\n",
       "      <td>-1.743975</td>\n",
       "      <td>0.125125</td>\n",
       "      <td>-0.778969</td>\n",
       "      <td>-0.690392</td>\n",
       "      <td>-1.333122</td>\n",
       "    </tr>\n",
       "    <tr>\n",
       "      <th>50%</th>\n",
       "      <td>1396.000000</td>\n",
       "      <td>-0.514302</td>\n",
       "      <td>-0.988645</td>\n",
       "      <td>-0.501592</td>\n",
       "      <td>1.020848</td>\n",
       "      <td>0.502035</td>\n",
       "      <td>0.525590</td>\n",
       "      <td>0.026873</td>\n",
       "    </tr>\n",
       "    <tr>\n",
       "      <th>75%</th>\n",
       "      <td>2104.000000</td>\n",
       "      <td>0.783393</td>\n",
       "      <td>0.010543</td>\n",
       "      <td>0.824485</td>\n",
       "      <td>1.870798</td>\n",
       "      <td>1.799345</td>\n",
       "      <td>1.741950</td>\n",
       "      <td>1.525040</td>\n",
       "    </tr>\n",
       "    <tr>\n",
       "      <th>max</th>\n",
       "      <td>2799.000000</td>\n",
       "      <td>4.799683</td>\n",
       "      <td>3.081538</td>\n",
       "      <td>4.666591</td>\n",
       "      <td>4.579679</td>\n",
       "      <td>5.464513</td>\n",
       "      <td>5.411911</td>\n",
       "      <td>5.746699</td>\n",
       "    </tr>\n",
       "  </tbody>\n",
       "</table>\n",
       "</div>"
      ],
      "text/plain": [
       "              A_id         Size       Weight    Sweetness  Crunchiness   \n",
       "count  2653.000000  2653.000000  2653.000000  2653.000000  2653.000000  \\\n",
       "mean   1400.714663    -0.510518    -0.999159    -0.451059     0.996603   \n",
       "std     808.195401     1.868902     1.501259     1.895799     1.290363   \n",
       "min       0.000000    -5.648196    -5.058679    -5.571881    -2.620954   \n",
       "25%     701.000000    -1.812728    -1.990630    -1.743975     0.125125   \n",
       "50%    1396.000000    -0.514302    -0.988645    -0.501592     1.020848   \n",
       "75%    2104.000000     0.783393     0.010543     0.824485     1.870798   \n",
       "max    2799.000000     4.799683     3.081538     4.666591     4.579679   \n",
       "\n",
       "         Juiciness     Ripeness      Acidity  \n",
       "count  2653.000000  2653.000000  2653.000000  \n",
       "mean      0.497556     0.528129     0.092417  \n",
       "std       1.850413     1.790270     2.048880  \n",
       "min      -4.563025    -4.471210    -5.537819  \n",
       "25%      -0.778969    -0.690392    -1.333122  \n",
       "50%       0.502035     0.525590     0.026873  \n",
       "75%       1.799345     1.741950     1.525040  \n",
       "max       5.464513     5.411911     5.746699  "
      ]
     },
     "execution_count": 9,
     "metadata": {},
     "output_type": "execute_result"
    }
   ],
   "source": [
    "df_no_outliers.describe()"
   ]
  },
  {
   "cell_type": "markdown",
   "id": "fe397543",
   "metadata": {},
   "source": [
    "- Semua kolom memiliki 2653 yang berarti tidak ada data yang hilang "
   ]
  },
  {
   "cell_type": "code",
   "execution_count": 10,
   "id": "4ce9e18e",
   "metadata": {
    "execution": {
     "iopub.execute_input": "2024-07-26T14:47:26.493790Z",
     "iopub.status.busy": "2024-07-26T14:47:26.493313Z",
     "iopub.status.idle": "2024-07-26T14:47:26.499057Z",
     "shell.execute_reply": "2024-07-26T14:47:26.497695Z"
    },
    "papermill": {
     "duration": 0.017539,
     "end_time": "2024-07-26T14:47:26.501637",
     "exception": false,
     "start_time": "2024-07-26T14:47:26.484098",
     "status": "completed"
    },
    "tags": []
   },
   "outputs": [
    {
     "data": {
      "image/png": "[encoded data removed]",
      "text/plain": [
       "<Figure size 1500x1000 with 9 Axes>"
      ]
     },
     "metadata": {},
     "output_type": "display_data"
    }
   ],
   "source": [
    "numeric_columns = df_no_outliers.select_dtypes(include=['number']).columns\n",
    "df_no_outliers[numeric_columns].hist(bins=15, figsize=(15, 10), layout=(3, 3))\n",
    "plt.suptitle('Histograms of Numeric Variables')\n",
    "plt.show()"
   ]
  },
  {
   "cell_type": "markdown",
   "id": "06127bb0",
   "metadata": {},
   "source": [
    "- Sebagian besar variabel menunjukkan distribusi normal (Gaussian), yang merupakan indikasi bahwa data tersebar merata di sekitar rata-rata."
   ]
  },
  {
   "cell_type": "code",
   "execution_count": 11,
   "id": "fb63c9ed",
   "metadata": {},
   "outputs": [
    {
     "data": {
      "image/png": "[encoded data removed]",
      "text/plain": [
       "<Figure size 1000x800 with 2 Axes>"
      ]
     },
     "metadata": {},
     "output_type": "display_data"
    }
   ],
   "source": [
    "# Menghitung korelasi antar variabel\n",
    "correlation_matrix = df_no_outliers.select_dtypes(include=['number']).corr()\n",
    "\n",
    "# Visualisasi matriks korelasi\n",
    "plt.figure(figsize=(10, 8))\n",
    "sns.heatmap(correlation_matrix, annot=True, cmap='YlGnBu')\n",
    "plt.title('Matriks Korelasi Antar Variabel')\n",
    "plt.show()"
   ]
  },
  {
   "cell_type": "markdown",
   "id": "a10b86aa",
   "metadata": {},
   "source": [
    "- Korelasi antar variabel dapat dilihat pada Gambar di atas"
   ]
  },
  {
   "cell_type": "markdown",
   "id": "bc92f5ac",
   "metadata": {
    "papermill": {
     "duration": 0.00683,
     "end_time": "2024-07-26T14:47:26.530727",
     "exception": false,
     "start_time": "2024-07-26T14:47:26.523897",
     "status": "completed"
    },
    "tags": []
   },
   "source": [
    "## 5. Pembuatan Model"
   ]
  },
  {
   "cell_type": "markdown",
   "id": "82268b1b",
   "metadata": {},
   "source": [
    "### Mengubah Columns Quality memiliki Tip Data String menjadi Number"
   ]
  },
  {
   "cell_type": "code",
   "execution_count": 12,
   "id": "af5309cd",
   "metadata": {
    "execution": {
     "iopub.execute_input": "2024-07-26T14:47:26.548121Z",
     "iopub.status.busy": "2024-07-26T14:47:26.546831Z",
     "iopub.status.idle": "2024-07-26T14:47:26.695463Z",
     "shell.execute_reply": "2024-07-26T14:47:26.693981Z"
    },
    "papermill": {
     "duration": 0.161865,
     "end_time": "2024-07-26T14:47:26.699804",
     "exception": false,
     "start_time": "2024-07-26T14:47:26.537939",
     "status": "completed"
    },
    "tags": []
   },
   "outputs": [
    {
     "name": "stderr",
     "output_type": "stream",
     "text": [
      "C:\\Users\\Akazh\\AppData\\Local\\Temp\\ipykernel_6324\\528611263.py:3: SettingWithCopyWarning: \n",
      "A value is trying to be set on a copy of a slice from a DataFrame.\n",
      "Try using .loc[row_indexer,col_indexer] = value instead\n",
      "\n",
      "See the caveats in the documentation: https://pandas.pydata.org/pandas-docs/stable/user_guide/indexing.html#returning-a-view-versus-a-copy\n",
      "  df_no_outliers[\"Quality\"] = encoder.fit_transform(df_no_outliers[\"Quality\"])\n"
     ]
    },
    {
     "data": {
      "text/html": [
       "<div>\n",
       "<style scoped>\n",
       "    .dataframe tbody tr th:only-of-type {\n",
       "        vertical-align: middle;\n",
       "    }\n",
       "\n",
       "    .dataframe tbody tr th {\n",
       "        vertical-align: top;\n",
       "    }\n",
       "\n",
       "    .dataframe thead th {\n",
       "        text-align: right;\n",
       "    }\n",
       "</style>\n",
       "<table border=\"1\" class=\"dataframe\">\n",
       "  <thead>\n",
       "    <tr style=\"text-align: right;\">\n",
       "      <th></th>\n",
       "      <th>A_id</th>\n",
       "      <th>Size</th>\n",
       "      <th>Weight</th>\n",
       "      <th>Sweetness</th>\n",
       "      <th>Crunchiness</th>\n",
       "      <th>Juiciness</th>\n",
       "      <th>Ripeness</th>\n",
       "      <th>Acidity</th>\n",
       "      <th>Quality</th>\n",
       "    </tr>\n",
       "  </thead>\n",
       "  <tbody>\n",
       "    <tr>\n",
       "      <th>0</th>\n",
       "      <td>0</td>\n",
       "      <td>-0.155024</td>\n",
       "      <td>-1.901167</td>\n",
       "      <td>2.615144</td>\n",
       "      <td>1.091245</td>\n",
       "      <td>1.642629</td>\n",
       "      <td>0.378677</td>\n",
       "      <td>-1.705312</td>\n",
       "      <td>1</td>\n",
       "    </tr>\n",
       "    <tr>\n",
       "      <th>1</th>\n",
       "      <td>1</td>\n",
       "      <td>-2.730624</td>\n",
       "      <td>-1.808060</td>\n",
       "      <td>-4.085386</td>\n",
       "      <td>0.172564</td>\n",
       "      <td>-1.579260</td>\n",
       "      <td>3.380989</td>\n",
       "      <td>-3.847081</td>\n",
       "      <td>0</td>\n",
       "    </tr>\n",
       "    <tr>\n",
       "      <th>2</th>\n",
       "      <td>2</td>\n",
       "      <td>-0.599057</td>\n",
       "      <td>2.046434</td>\n",
       "      <td>-2.877662</td>\n",
       "      <td>0.505389</td>\n",
       "      <td>0.228996</td>\n",
       "      <td>1.890559</td>\n",
       "      <td>2.211756</td>\n",
       "      <td>0</td>\n",
       "    </tr>\n",
       "    <tr>\n",
       "      <th>3</th>\n",
       "      <td>3</td>\n",
       "      <td>-2.010945</td>\n",
       "      <td>-1.426566</td>\n",
       "      <td>-2.334610</td>\n",
       "      <td>1.302376</td>\n",
       "      <td>0.142687</td>\n",
       "      <td>3.922959</td>\n",
       "      <td>0.017695</td>\n",
       "      <td>0</td>\n",
       "    </tr>\n",
       "    <tr>\n",
       "      <th>4</th>\n",
       "      <td>4</td>\n",
       "      <td>-1.977980</td>\n",
       "      <td>-0.229483</td>\n",
       "      <td>1.283458</td>\n",
       "      <td>0.238898</td>\n",
       "      <td>1.049935</td>\n",
       "      <td>0.682324</td>\n",
       "      <td>0.369580</td>\n",
       "      <td>1</td>\n",
       "    </tr>\n",
       "    <tr>\n",
       "      <th>...</th>\n",
       "      <td>...</td>\n",
       "      <td>...</td>\n",
       "      <td>...</td>\n",
       "      <td>...</td>\n",
       "      <td>...</td>\n",
       "      <td>...</td>\n",
       "      <td>...</td>\n",
       "      <td>...</td>\n",
       "      <td>...</td>\n",
       "    </tr>\n",
       "    <tr>\n",
       "      <th>2794</th>\n",
       "      <td>2794</td>\n",
       "      <td>2.224916</td>\n",
       "      <td>-2.243440</td>\n",
       "      <td>0.864767</td>\n",
       "      <td>1.071480</td>\n",
       "      <td>1.449131</td>\n",
       "      <td>-1.468722</td>\n",
       "      <td>2.603011</td>\n",
       "      <td>1</td>\n",
       "    </tr>\n",
       "    <tr>\n",
       "      <th>2795</th>\n",
       "      <td>2795</td>\n",
       "      <td>-0.519382</td>\n",
       "      <td>-2.409052</td>\n",
       "      <td>-1.399648</td>\n",
       "      <td>1.389052</td>\n",
       "      <td>2.121269</td>\n",
       "      <td>-1.978344</td>\n",
       "      <td>-0.083375</td>\n",
       "      <td>1</td>\n",
       "    </tr>\n",
       "    <tr>\n",
       "      <th>2797</th>\n",
       "      <td>2797</td>\n",
       "      <td>-0.386819</td>\n",
       "      <td>0.957507</td>\n",
       "      <td>-0.315931</td>\n",
       "      <td>3.380672</td>\n",
       "      <td>-1.908308</td>\n",
       "      <td>-2.620454</td>\n",
       "      <td>0.022230</td>\n",
       "      <td>1</td>\n",
       "    </tr>\n",
       "    <tr>\n",
       "      <th>2798</th>\n",
       "      <td>2798</td>\n",
       "      <td>-0.091728</td>\n",
       "      <td>0.185842</td>\n",
       "      <td>-0.826041</td>\n",
       "      <td>1.369838</td>\n",
       "      <td>-0.206288</td>\n",
       "      <td>-1.378037</td>\n",
       "      <td>1.599195</td>\n",
       "      <td>1</td>\n",
       "    </tr>\n",
       "    <tr>\n",
       "      <th>2799</th>\n",
       "      <td>2799</td>\n",
       "      <td>2.913270</td>\n",
       "      <td>-1.324942</td>\n",
       "      <td>-3.906278</td>\n",
       "      <td>1.140894</td>\n",
       "      <td>-0.021364</td>\n",
       "      <td>2.057460</td>\n",
       "      <td>1.193891</td>\n",
       "      <td>1</td>\n",
       "    </tr>\n",
       "  </tbody>\n",
       "</table>\n",
       "<p>2653 rows × 9 columns</p>\n",
       "</div>"
      ],
      "text/plain": [
       "      A_id      Size    Weight  Sweetness  Crunchiness  Juiciness  Ripeness   \n",
       "0        0 -0.155024 -1.901167   2.615144     1.091245   1.642629  0.378677  \\\n",
       "1        1 -2.730624 -1.808060  -4.085386     0.172564  -1.579260  3.380989   \n",
       "2        2 -0.599057  2.046434  -2.877662     0.505389   0.228996  1.890559   \n",
       "3        3 -2.010945 -1.426566  -2.334610     1.302376   0.142687  3.922959   \n",
       "4        4 -1.977980 -0.229483   1.283458     0.238898   1.049935  0.682324   \n",
       "...    ...       ...       ...        ...          ...        ...       ...   \n",
       "2794  2794  2.224916 -2.243440   0.864767     1.071480   1.449131 -1.468722   \n",
       "2795  2795 -0.519382 -2.409052  -1.399648     1.389052   2.121269 -1.978344   \n",
       "2797  2797 -0.386819  0.957507  -0.315931     3.380672  -1.908308 -2.620454   \n",
       "2798  2798 -0.091728  0.185842  -0.826041     1.369838  -0.206288 -1.378037   \n",
       "2799  2799  2.913270 -1.324942  -3.906278     1.140894  -0.021364  2.057460   \n",
       "\n",
       "       Acidity  Quality  \n",
       "0    -1.705312        1  \n",
       "1    -3.847081        0  \n",
       "2     2.211756        0  \n",
       "3     0.017695        0  \n",
       "4     0.369580        1  \n",
       "...        ...      ...  \n",
       "2794  2.603011        1  \n",
       "2795 -0.083375        1  \n",
       "2797  0.022230        1  \n",
       "2798  1.599195        1  \n",
       "2799  1.193891        1  \n",
       "\n",
       "[2653 rows x 9 columns]"
      ]
     },
     "execution_count": 12,
     "metadata": {},
     "output_type": "execute_result"
    }
   ],
   "source": [
    "# Encode target variable\n",
    "encoder = LabelEncoder()\n",
    "df_no_outliers[\"Quality\"] = encoder.fit_transform(df_no_outliers[\"Quality\"])\n",
    "df_no_outliers"
   ]
  },
  {
   "cell_type": "markdown",
   "id": "2347407b",
   "metadata": {},
   "source": [
    "### Memisah antara features dengan label untuk dilakukannya training\n",
    "### Membagi Dataset menjadi 80:20 di mana 80% untuk training dan 20% untuk test"
   ]
  },
  {
   "cell_type": "code",
   "execution_count": 13,
   "id": "67a05fb4",
   "metadata": {},
   "outputs": [
    {
     "data": {
      "text/plain": [
       "0       1\n",
       "1       0\n",
       "2       0\n",
       "3       0\n",
       "4       1\n",
       "       ..\n",
       "2794    1\n",
       "2795    1\n",
       "2797    1\n",
       "2798    1\n",
       "2799    1\n",
       "Name: Quality, Length: 2653, dtype: int32"
      ]
     },
     "execution_count": 13,
     "metadata": {},
     "output_type": "execute_result"
    }
   ],
   "source": [
    "X = df_no_outliers.iloc[:, :-1]\n",
    "y = df_no_outliers.iloc[:, -1]\n",
    "\n",
    "X_train, X_test, y_train, y_test = train_test_split(X,y, test_size=0.2, random_state=1024)\n",
    "y"
   ]
  },
  {
   "cell_type": "markdown",
   "id": "20bb6aa1",
   "metadata": {},
   "source": [
    "### Model "
   ]
  },
  {
   "cell_type": "code",
   "execution_count": 27,
   "id": "eb8b5f94",
   "metadata": {},
   "outputs": [
    {
     "name": "stdout",
     "output_type": "stream",
     "text": [
      "Accuracy: 0.8851224105461394\n"
     ]
    }
   ],
   "source": [
    "model = RandomForestClassifier()\n",
    "model.fit(X_train, y_train)\n",
    "y_pred = model.predict(X_test)\n",
    "    \n",
    "accuracy = accuracy_score(y_test, y_pred)\n",
    "print(f'Accuracy: {accuracy}')"
   ]
  },
  {
   "cell_type": "markdown",
   "id": "9b23b3d4",
   "metadata": {},
   "source": [
    "### Tuning Hyperparameter Model"
   ]
  },
  {
   "cell_type": "code",
   "execution_count": 28,
   "id": "bc179fb6",
   "metadata": {},
   "outputs": [
    {
     "name": "stdout",
     "output_type": "stream",
     "text": [
      "Best hyperparameters: {'criterion': 'gini', 'max_depth': 30, 'max_features': 'log2', 'n_estimators': 100}\n",
      "Test set accuracy: 0.8851224105461394\n",
      "GridSearchCV test set score: 0.8851224105461394\n"
     ]
    }
   ],
   "source": [
    "# Define the parameter grid\n",
    "param_grid = {\n",
    "    'n_estimators': [100, 200, 500],\n",
    "    'max_features': ['sqrt', 'log2', None],\n",
    "    'max_depth': [None, 10, 20, 30],\n",
    "    'criterion': ['gini', 'entropy'],\n",
    "}\n",
    "\n",
    "# Initialize the KNN model\n",
    "rfc = RandomForestClassifier()\n",
    "\n",
    "# Initialize GridSearchCV\n",
    "grid_search = GridSearchCV(estimator=rfc, param_grid=param_grid, cv=5, scoring='accuracy')\n",
    "\n",
    "# Fit GridSearchCV\n",
    "grid_search.fit(X_train, y_train)\n",
    "\n",
    "# Get the best hyperparameters\n",
    "best_params = grid_search.best_params_\n",
    "print(f\"Best hyperparameters: {best_params}\")\n",
    "\n",
    "# Train the model with the best hyperparameters\n",
    "best_rfc = grid_search.best_estimator_\n",
    "best_rfc.fit(X_train, y_train)\n",
    "\n",
    "# Make predictions on the test set\n",
    "y_pred = best_rfc.predict(X_test)\n",
    "\n",
    "# Calculate accuracy on the test set\n",
    "accuracy_test = accuracy_score(y_test, y_pred)\n",
    "print(f\"Test set accuracy: {accuracy_test}\")\n",
    "\n",
    "# Calculate accuracy using grid_search.score on the test set\n",
    "grid_search_test_score = grid_search.score(X_test, y_test)\n",
    "print(f\"GridSearchCV test set score: {grid_search_test_score}\")\n"
   ]
  },
  {
   "cell_type": "markdown",
   "id": "ffb128c6",
   "metadata": {
    "papermill": {
     "duration": 0.015001,
     "end_time": "2024-07-26T14:47:26.730441",
     "exception": false,
     "start_time": "2024-07-26T14:47:26.715440",
     "status": "completed"
    },
    "tags": []
   },
   "source": [
    "- Setelah training model menggunakan Random Forest Classifier didapatkan model terbaik dengan akurasi 88%"
   ]
  },
  {
   "cell_type": "markdown",
   "id": "f463afc5",
   "metadata": {
    "papermill": {
     "duration": 0.014696,
     "end_time": "2024-07-26T14:47:26.761480",
     "exception": false,
     "start_time": "2024-07-26T14:47:26.746784",
     "status": "completed"
    },
    "tags": []
   },
   "source": [
    "## 6. Evaluasi Model"
   ]
  },
  {
   "cell_type": "code",
   "execution_count": 29,
   "id": "4b1c8fa6",
   "metadata": {
    "execution": {
     "iopub.execute_input": "2024-07-26T14:47:26.795766Z",
     "iopub.status.busy": "2024-07-26T14:47:26.795013Z",
     "iopub.status.idle": "2024-07-26T14:47:26.817651Z",
     "shell.execute_reply": "2024-07-26T14:47:26.816026Z"
    },
    "papermill": {
     "duration": 0.045428,
     "end_time": "2024-07-26T14:47:26.822836",
     "exception": false,
     "start_time": "2024-07-26T14:47:26.777408",
     "status": "completed"
    },
    "tags": []
   },
   "outputs": [
    {
     "data": {
      "text/plain": [
       "0.9770071617037316"
      ]
     },
     "execution_count": 29,
     "metadata": {},
     "output_type": "execute_result"
    }
   ],
   "source": [
    "grid_search.score(X,y)"
   ]
  },
  {
   "cell_type": "code",
   "execution_count": 30,
   "id": "5ebb7cea",
   "metadata": {},
   "outputs": [
    {
     "data": {
      "image/png": "[encoded data removed]",
      "text/plain": [
       "<Figure size 640x480 with 2 Axes>"
      ]
     },
     "metadata": {},
     "output_type": "display_data"
    },
    {
     "name": "stdout",
     "output_type": "stream",
     "text": [
      "              precision    recall  f1-score   support\n",
      "\n",
      "           0       0.87      0.90      0.89       263\n",
      "           1       0.90      0.87      0.88       268\n",
      "\n",
      "    accuracy                           0.89       531\n",
      "   macro avg       0.89      0.89      0.89       531\n",
      "weighted avg       0.89      0.89      0.89       531\n",
      "\n"
     ]
    }
   ],
   "source": [
    "# Generate confusion matrix\n",
    "cm = confusion_matrix(y_test, y_pred)\n",
    "sns.heatmap(cm, annot=True, fmt='d', cmap='Blues')\n",
    "plt.xlabel('Predicted')\n",
    "plt.ylabel('Actual')\n",
    "plt.show()\n",
    "\n",
    "# Print classification report\n",
    "print(classification_report(y_test, y_pred))"
   ]
  },
  {
   "cell_type": "markdown",
   "id": "d7fb791d",
   "metadata": {
    "papermill": {
     "duration": 0.015018,
     "end_time": "2024-07-26T14:47:26.854519",
     "exception": false,
     "start_time": "2024-07-26T14:47:26.839501",
     "status": "completed"
    },
    "tags": []
   },
   "source": [
    "- Didapatkan nilai model sebesar 88%"
   ]
  },
  {
   "cell_type": "markdown",
   "id": "47e78ab1",
   "metadata": {
    "papermill": {
     "duration": 0.01558,
     "end_time": "2024-07-26T14:47:26.885748",
     "exception": false,
     "start_time": "2024-07-26T14:47:26.870168",
     "status": "completed"
    },
    "tags": []
   },
   "source": [
    "## 7. Prediksi Kualitas Apel & File Submisi\n",
    "\n",
    "Pastikan format file hasil prediksi sesuai dengan `sample_submission.csv` dan file submisi disimpan dengan nama `submission.csv`. Pastikan pula variabel `Quality` memiliki nilai bertipe string (`good` atau `bad`)"
   ]
  },
  {
   "cell_type": "code",
   "execution_count": 33,
   "id": "09617076",
   "metadata": {
    "execution": {
     "iopub.execute_input": "2024-07-26T14:47:26.922434Z",
     "iopub.status.busy": "2024-07-26T14:47:26.921564Z",
     "iopub.status.idle": "2024-07-26T14:47:26.958563Z",
     "shell.execute_reply": "2024-07-26T14:47:26.956873Z"
    },
    "papermill": {
     "duration": 0.060979,
     "end_time": "2024-07-26T14:47:26.963105",
     "exception": false,
     "start_time": "2024-07-26T14:47:26.902126",
     "status": "completed"
    },
    "tags": []
   },
   "outputs": [],
   "source": [
    "test = pd.read_csv(\"dsc-2024-temporary/test.csv\")\n",
    "\n",
    "prediction = best_rfc.predict(test)\n",
    "prediction = encoder.inverse_transform(prediction)\n",
    "\n",
    "submission = pd.DataFrame(data={\"A_id\": test[\"A_id\"], \"Quality\": prediction})\n",
    "\n",
    "submission.to_csv(\"RFC - Submission.csv\", index=False)"
   ]
  },
  {
   "cell_type": "markdown",
   "id": "3afcc6f6",
   "metadata": {
    "papermill": {
     "duration": 0.014831,
     "end_time": "2024-07-26T14:47:26.994200",
     "exception": false,
     "start_time": "2024-07-26T14:47:26.979369",
     "status": "completed"
    },
    "tags": []
   },
   "source": [
    "## 8. Kesimpulan dan Saran\n",
    "\n",
    "Kesimpulan :\n",
    "1. *Preprocessing Data*\n",
    "   - Mengidentifikasi Outlier dan menghilangkan dari dataset, sehingga menghasilkan data yang lebih bersih dan representatif\n",
    "   - Menormalisasi data menggunakan `Standard Scaler` untuk memastikan skala fitur yang konsisten\n",
    "2. Akurasi model terbaik diukur pada data uji dan seluruh dataset untuk mendapatkan gambaran performa model secara keseluruhan.\n",
    "3. Model mencapai akurasi sebesar 87%\n",
    "4. Model terbaik digunakan untuk memprediksi kualitas apel pada dataset uji dan menghasilkan file `submission.csv` yang sesuai dengan format yang ditentukan.\n",
    "\n",
    "Saran :\n",
    "1. Menambah data untuk melatih model. Semakin banyak data yang representatif, semakin baik model dalam mengenali pola.\n",
    "2. Menggunakan teknik model ensemble untuk meningkatkan akurasi model"
   ]
  }
 ],
 "metadata": {
  "kaggle": {
   "accelerator": "none",
   "dataSources": [
    {
     "databundleVersionId": 9207929,
     "sourceId": 83281,
     "sourceType": "competition"
    }
   ],
   "dockerImageVersionId": 30746,
   "isGpuEnabled": false,
   "isInternetEnabled": true,
   "language": "python",
   "sourceType": "notebook"
  },
  "kernelspec": {
   "display_name": "Python 3",
   "language": "python",
   "name": "python3"
  },
  "language_info": {
   "codemirror_mode": {
    "name": "ipython",
    "version": 3
   },
   "file_extension": ".py",
   "mimetype": "text/x-python",
   "name": "python",
   "nbconvert_exporter": "python",
   "pygments_lexer": "ipython3",
   "version": "3.11.3"
  },
  "papermill": {
   "default_parameters": {},
   "duration": 7.196398,
   "end_time": "2024-07-26T14:47:27.642470",
   "environment_variables": {},
   "exception": null,
   "input_path": "__notebook__.ipynb",
   "output_path": "__notebook__.ipynb",
   "parameters": {},
   "start_time": "2024-07-26T14:47:20.446072",
   "version": "2.5.0"
  }
 },
 "nbformat": 4,
 "nbformat_minor": 5
}
